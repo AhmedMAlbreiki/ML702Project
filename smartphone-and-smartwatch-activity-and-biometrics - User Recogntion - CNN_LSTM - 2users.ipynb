{
 "cells": [
  {
   "cell_type": "markdown",
   "metadata": {},
   "source": [
    "Human Activity Tracker\n",
    "\n",
    "Human Activity Detection is the problem of predicting what a person is doing based on a trace of their movement using sensors. The \"Human Activity Detection #Dataset\" includes data collected from 34 subjects, each of whom were asked to perform 18 tasks for 3 minutes each. Each subject had a smartwatch placed on his/her dominant hand and a smartphone in their pocket. The data collection was controlled by a custom-made app that ran on the #smartphone and #smartwatch. The sensor data that was collected was from the accelerometer and gyroscope on both the smartphone and smartwatch, yielding four total sensors. The sensor data was collected at a rate of 20 Hz (i.e., every 50ms). The smartphone was either the Google Nexus 5/5X or Samsung Galaxy S5 running Android 6.0 (Marshmallow). The smartwatch was the LG G Watch running Android Wear 1.5."
   ]
  },
  {
   "cell_type": "code",
   "execution_count": 1,
   "metadata": {
    "_cell_guid": "b1076dfc-b9ad-4769-8c92-a6c4dae69d19",
    "_uuid": "8f2839f25d086af736a60e9eeb907d3b93b6e0e5"
   },
   "outputs": [
    {
     "name": "stdout",
     "output_type": "stream",
     "text": [
      "wisdm-dataset/raw/phone/accel\\.DS_Store\n",
      "wisdm-dataset/raw/phone/accel\\data_1600_accel_phone.txt\n",
      "wisdm-dataset/raw/phone/accel\\data_1601_accel_phone.txt\n",
      "wisdm-dataset/raw/phone/accel\\data_1602_accel_phone.txt\n",
      "wisdm-dataset/raw/phone/accel\\data_1603_accel_phone.txt\n",
      "wisdm-dataset/raw/phone/accel\\data_1604_accel_phone.txt\n",
      "wisdm-dataset/raw/phone/accel\\data_1605_accel_phone.txt\n",
      "wisdm-dataset/raw/phone/accel\\data_1606_accel_phone.txt\n",
      "wisdm-dataset/raw/phone/accel\\data_1607_accel_phone.txt\n",
      "wisdm-dataset/raw/phone/accel\\data_1608_accel_phone.txt\n",
      "wisdm-dataset/raw/phone/accel\\data_1609_accel_phone.txt\n",
      "wisdm-dataset/raw/phone/accel\\data_1610_accel_phone.txt\n",
      "wisdm-dataset/raw/phone/accel\\data_1611_accel_phone.txt\n",
      "wisdm-dataset/raw/phone/accel\\data_1612_accel_phone.txt\n",
      "wisdm-dataset/raw/phone/accel\\data_1613_accel_phone.txt\n",
      "wisdm-dataset/raw/phone/accel\\data_1614_accel_phone.txt\n",
      "wisdm-dataset/raw/phone/accel\\data_1615_accel_phone.txt\n",
      "wisdm-dataset/raw/phone/accel\\data_1616_accel_phone.txt\n",
      "wisdm-dataset/raw/phone/accel\\data_1617_accel_phone.txt\n",
      "wisdm-dataset/raw/phone/accel\\data_1618_accel_phone.txt\n",
      "wisdm-dataset/raw/phone/accel\\data_1619_accel_phone.txt\n",
      "wisdm-dataset/raw/phone/accel\\data_1620_accel_phone.txt\n",
      "wisdm-dataset/raw/phone/accel\\data_1621_accel_phone.txt\n",
      "wisdm-dataset/raw/phone/accel\\data_1622_accel_phone.txt\n",
      "wisdm-dataset/raw/phone/accel\\data_1623_accel_phone.txt\n",
      "wisdm-dataset/raw/phone/accel\\data_1624_accel_phone.txt\n",
      "wisdm-dataset/raw/phone/accel\\data_1625_accel_phone.txt\n",
      "wisdm-dataset/raw/phone/accel\\data_1626_accel_phone.txt\n",
      "wisdm-dataset/raw/phone/accel\\data_1627_accel_phone.txt\n",
      "wisdm-dataset/raw/phone/accel\\data_1628_accel_phone.txt\n",
      "wisdm-dataset/raw/phone/accel\\data_1629_accel_phone.txt\n",
      "wisdm-dataset/raw/phone/accel\\data_1630_accel_phone.txt\n",
      "wisdm-dataset/raw/phone/accel\\data_1631_accel_phone.txt\n",
      "wisdm-dataset/raw/phone/accel\\data_1632_accel_phone.txt\n",
      "wisdm-dataset/raw/phone/accel\\data_1633_accel_phone.txt\n",
      "wisdm-dataset/raw/phone/accel\\data_1634_accel_phone.txt\n",
      "wisdm-dataset/raw/phone/accel\\data_1635_accel_phone.txt\n",
      "wisdm-dataset/raw/phone/accel\\data_1636_accel_phone.txt\n",
      "wisdm-dataset/raw/phone/accel\\data_1637_accel_phone.txt\n",
      "wisdm-dataset/raw/phone/accel\\data_1638_accel_phone.txt\n",
      "wisdm-dataset/raw/phone/accel\\data_1639_accel_phone.txt\n",
      "wisdm-dataset/raw/phone/accel\\data_1640_accel_phone.txt\n",
      "wisdm-dataset/raw/phone/accel\\data_1641_accel_phone.txt\n",
      "wisdm-dataset/raw/phone/accel\\data_1642_accel_phone.txt\n",
      "wisdm-dataset/raw/phone/accel\\data_1643_accel_phone.txt\n",
      "wisdm-dataset/raw/phone/accel\\data_1644_accel_phone.txt\n",
      "wisdm-dataset/raw/phone/accel\\data_1645_accel_phone.txt\n",
      "wisdm-dataset/raw/phone/accel\\data_1646_accel_phone.txt\n",
      "wisdm-dataset/raw/phone/accel\\data_1647_accel_phone.txt\n",
      "wisdm-dataset/raw/phone/accel\\data_1648_accel_phone.txt\n",
      "wisdm-dataset/raw/phone/accel\\data_1649_accel_phone.txt\n",
      "wisdm-dataset/raw/phone/accel\\data_1650_accel_phone.txt\n"
     ]
    }
   ],
   "source": [
    "# This Python 3 environment comes with many helpful analytics libraries installed\n",
    "# It is defined by the kaggle/python Docker image: https://github.com/kaggle/docker-python\n",
    "# For example, here's several helpful packages to load\n",
    "\n",
    "import numpy as np # linear algebra\n",
    "import pandas as pd # data processing, CSV file I/O (e.g. pd.read_csv)\n",
    "\n",
    "# Input data files are available in the read-only \"../input/\" directory\n",
    "# For example, running this (by clicking run or pressing Shift+Enter) will list all files under the input directory\n",
    "\n",
    "import os\n",
    "for dirname, _, filenames in os.walk('wisdm-dataset/raw/phone/accel'):\n",
    "    for filename in filenames:\n",
    "        print(os.path.join(dirname, filename))\n"
   ]
  },
  {
   "cell_type": "code",
   "execution_count": 2,
   "metadata": {
    "_cell_guid": "79c7e3d0-c299-4dcb-8224-4455121ee9b0",
    "_uuid": "d629ff2d2480ee46fbb7e2d37f6b5fab8052498a"
   },
   "outputs": [],
   "source": [
    "from __future__ import print_function\n",
    "from matplotlib import pyplot as plt\n",
    "%matplotlib inline\n",
    "import numpy as np\n",
    "import pandas as pd\n",
    "import seaborn as sns\n",
    "#import coremltools\n",
    "from scipy import stats\n",
    "from IPython.display import display, HTML\n",
    "\n",
    "from sklearn import metrics\n",
    "from sklearn.metrics import classification_report\n",
    "from sklearn import preprocessing\n",
    "\n",
    "import keras\n",
    "from keras.models import Sequential\n",
    "from keras.layers import Dense, Dropout, Flatten, Reshape\n",
    "from keras.layers import Conv1D, Conv2D, LSTM, MaxPooling2D, TimeDistributed, ConvLSTM2D\n",
    "from keras.layers.convolutional import MaxPooling1D\n",
    "from keras.utils import np_utils\n",
    "import torch\n"
   ]
  },
  {
   "cell_type": "code",
   "execution_count": 3,
   "metadata": {},
   "outputs": [
    {
     "data": {
      "text/plain": [
       "'cpu'"
      ]
     },
     "execution_count": 3,
     "metadata": {},
     "output_type": "execute_result"
    }
   ],
   "source": [
    "np.random.seed(42)\n",
    "device = 'cuda:0' if torch.cuda.is_available() else 'cpu'\n",
    "device"
   ]
  },
  {
   "cell_type": "markdown",
   "metadata": {},
   "source": [
    "Phone Accelerometer Train/test"
   ]
  },
  {
   "cell_type": "code",
   "execution_count": 4,
   "metadata": {},
   "outputs": [],
   "source": [
    "columns=['user','activity','time','x','y','z']\n",
    "\n",
    "data_phone_accel_sum = pd.DataFrame(data=None,columns=columns)\n",
    "for dirname, _, filenames in os.walk('wisdm-dataset/raw/phone/accel'):\n",
    "    for filename in filenames:\n",
    "        if filename == (\".DS_Store\"):\n",
    "            continue\n",
    "        df = pd.read_csv('wisdm-dataset/raw/phone/accel/'+filename , sep=\",\", header=None)\n",
    "        temp=pd.DataFrame(data=df.values, columns=columns)\n",
    "        data_phone_accel_sum=pd.concat([data_phone_accel_sum,temp])"
   ]
  },
  {
   "cell_type": "code",
   "execution_count": 5,
   "metadata": {},
   "outputs": [
    {
     "name": "stdout",
     "output_type": "stream",
     "text": [
      "<class 'pandas.core.frame.DataFrame'>\n",
      "Int64Index: 4804403 entries, 0 to 160778\n",
      "Data columns (total 6 columns):\n",
      " #   Column    Dtype  \n",
      "---  ------    -----  \n",
      " 0   user      object \n",
      " 1   activity  object \n",
      " 2   time      object \n",
      " 3   x         float64\n",
      " 4   y         float64\n",
      " 5   z         float64\n",
      "dtypes: float64(3), object(3)\n",
      "memory usage: 256.6+ MB\n"
     ]
    }
   ],
   "source": [
    "data_phone_accel_sum['z'] = data_phone_accel_sum['z'].str.replace(';','')\n",
    "data_phone_accel_sum['activity'].value_counts()\n",
    "data_phone_accel_sum['x']=data_phone_accel_sum['x'].astype('float')\n",
    "data_phone_accel_sum['y']=data_phone_accel_sum['y'].astype('float')\n",
    "data_phone_accel_sum['z']=data_phone_accel_sum['z'].astype('float')\n",
    "data_phone_accel_sum.info()"
   ]
  },
  {
   "cell_type": "markdown",
   "metadata": {},
   "source": [
    "Phone Gyro files import Train/test"
   ]
  },
  {
   "cell_type": "code",
   "execution_count": 6,
   "metadata": {},
   "outputs": [],
   "source": [
    "\n",
    "data_phone_gyro_sum = pd.DataFrame(data=None,columns=columns)\n",
    "for dirname, _, filenames in os.walk('wisdm-dataset/raw/phone/gyro'):\n",
    "    for filename in filenames:\n",
    "        if filename == (\".DS_Store\"):\n",
    "            continue\n",
    "        df = pd.read_csv('wisdm-dataset/raw/phone/gyro/'+filename , sep=\",\", header=None)\n",
    "        temp=pd.DataFrame(data=df.values, columns=columns)\n",
    "        data_phone_gyro_sum=pd.concat([data_phone_gyro_sum,temp])"
   ]
  },
  {
   "cell_type": "code",
   "execution_count": 7,
   "metadata": {},
   "outputs": [
    {
     "name": "stdout",
     "output_type": "stream",
     "text": [
      "<class 'pandas.core.frame.DataFrame'>\n",
      "Int64Index: 3608635 entries, 0 to 80347\n",
      "Data columns (total 6 columns):\n",
      " #   Column    Dtype  \n",
      "---  ------    -----  \n",
      " 0   user      object \n",
      " 1   activity  object \n",
      " 2   time      object \n",
      " 3   x         float64\n",
      " 4   y         float64\n",
      " 5   z         float64\n",
      "dtypes: float64(3), object(3)\n",
      "memory usage: 192.7+ MB\n"
     ]
    }
   ],
   "source": [
    "data_phone_gyro_sum['z'] = data_phone_gyro_sum['z'].str.replace(';','')\n",
    "\n",
    "data_phone_gyro_sum['x']=data_phone_gyro_sum['x'].astype('float')\n",
    "data_phone_gyro_sum['y']=data_phone_gyro_sum['y'].astype('float')\n",
    "data_phone_gyro_sum['z']=data_phone_gyro_sum['z'].astype('float')\n",
    "\n",
    "data_phone_gyro_sum['activity'].value_counts()\n",
    "data_phone_gyro_sum.info()"
   ]
  },
  {
   "cell_type": "markdown",
   "metadata": {},
   "source": [
    "Watch Gyro files import train/test"
   ]
  },
  {
   "cell_type": "code",
   "execution_count": 8,
   "metadata": {},
   "outputs": [],
   "source": [
    "\n",
    "data_watch_gyro_sum = pd.DataFrame(data=None,columns=columns)\n",
    "for dirname, _, filenames in os.walk('wisdm-dataset/raw/watch/gyro'):\n",
    "    for filename in filenames:\n",
    "        if filename == (\".DS_Store\"):\n",
    "            continue\n",
    "        df = pd.read_csv('wisdm-dataset/raw/watch/gyro/'+filename , sep=\",\", header=None)\n",
    "        temp=pd.DataFrame(data=df.values, columns=columns)\n",
    "        data_watch_gyro_sum=pd.concat([data_watch_gyro_sum,temp])"
   ]
  },
  {
   "cell_type": "code",
   "execution_count": 9,
   "metadata": {},
   "outputs": [
    {
     "name": "stdout",
     "output_type": "stream",
     "text": [
      "<class 'pandas.core.frame.DataFrame'>\n",
      "Int64Index: 3440342 entries, 0 to 66555\n",
      "Data columns (total 6 columns):\n",
      " #   Column    Dtype  \n",
      "---  ------    -----  \n",
      " 0   user      object \n",
      " 1   activity  object \n",
      " 2   time      object \n",
      " 3   x         float64\n",
      " 4   y         float64\n",
      " 5   z         float64\n",
      "dtypes: float64(3), object(3)\n",
      "memory usage: 183.7+ MB\n"
     ]
    }
   ],
   "source": [
    "data_watch_gyro_sum['z'] = data_watch_gyro_sum['z'].str.replace(';','')\n",
    "data_watch_gyro_sum['x']=data_watch_gyro_sum['x'].astype('float')\n",
    "data_watch_gyro_sum['y']=data_watch_gyro_sum['y'].astype('float')\n",
    "data_watch_gyro_sum['z']=data_watch_gyro_sum['z'].astype('float')\n",
    "\n",
    "data_watch_gyro_sum['activity'].value_counts()\n",
    "data_watch_gyro_sum.info()"
   ]
  },
  {
   "cell_type": "markdown",
   "metadata": {},
   "source": [
    "Watch accelorometer files import train test"
   ]
  },
  {
   "cell_type": "code",
   "execution_count": 10,
   "metadata": {},
   "outputs": [],
   "source": [
    "\n",
    "data_watch_accel_sum = pd.DataFrame(data=None,columns=columns)\n",
    "for dirname, _, filenames in os.walk('wisdm-dataset/raw/watch/accel'):\n",
    "    for filename in filenames:\n",
    "        if filename == (\".DS_Store\"):\n",
    "            continue\n",
    "        df = pd.read_csv('wisdm-dataset/raw/watch/accel/'+filename , sep=\",\", header=None)\n",
    "        temp=pd.DataFrame(data=df.values, columns=columns)\n",
    "        data_watch_accel_sum=pd.concat([data_watch_accel_sum,temp])"
   ]
  },
  {
   "cell_type": "code",
   "execution_count": 11,
   "metadata": {},
   "outputs": [
    {
     "name": "stdout",
     "output_type": "stream",
     "text": [
      "<class 'pandas.core.frame.DataFrame'>\n",
      "Int64Index: 3777046 entries, 0 to 66591\n",
      "Data columns (total 6 columns):\n",
      " #   Column    Dtype  \n",
      "---  ------    -----  \n",
      " 0   user      object \n",
      " 1   activity  object \n",
      " 2   time      object \n",
      " 3   x         float64\n",
      " 4   y         float64\n",
      " 5   z         float64\n",
      "dtypes: float64(3), object(3)\n",
      "memory usage: 201.7+ MB\n"
     ]
    }
   ],
   "source": [
    "data_watch_accel_sum['z'] = data_watch_accel_sum['z'].str.replace(';','')\n",
    "data_watch_accel_sum['x']=data_watch_accel_sum['x'].astype('float')\n",
    "data_watch_accel_sum['y']=data_watch_accel_sum['y'].astype('float')\n",
    "data_watch_accel_sum['z']=data_watch_accel_sum['z'].astype('float')\n",
    "\n",
    "data_watch_accel_sum['activity'].value_counts()\n",
    "data_watch_accel_sum.info()"
   ]
  },
  {
   "cell_type": "markdown",
   "metadata": {},
   "source": [
    "Combining Phone accel and gyro data"
   ]
  },
  {
   "cell_type": "code",
   "execution_count": 12,
   "metadata": {},
   "outputs": [],
   "source": [
    "df_phone = pd.DataFrame(data=None, columns=columns)\n",
    "df_phone['user']= data_phone_accel_sum['user'].head(3608635)\n",
    "df_phone['activity']= data_phone_accel_sum['activity'].head(3608635)\n",
    "df_phone['time']= data_phone_accel_sum['time'].head(3608635)\n",
    "df_phone['x'] = data_phone_gyro_sum['x'].values + data_phone_accel_sum['x'].head(3608635).values\n",
    "df_phone['y'] = data_phone_gyro_sum['y'].values + data_phone_accel_sum['y'].head(3608635).values\n",
    "df_phone['z'] = data_phone_gyro_sum['z'].values + data_phone_accel_sum['z'].head(3608635).values"
   ]
  },
  {
   "cell_type": "markdown",
   "metadata": {},
   "source": [
    "Combining watch acccel and gyro data"
   ]
  },
  {
   "cell_type": "code",
   "execution_count": 13,
   "metadata": {},
   "outputs": [],
   "source": [
    "df_watch = pd.DataFrame(data=None, columns=columns)\n",
    "df_watch['user']= data_watch_accel_sum['user'].head(3440342)\n",
    "df_watch['activity']= data_watch_accel_sum['activity'].head(3440342)\n",
    "df_watch['time']= data_watch_accel_sum['time'].head(3440342)\n",
    "df_watch['x'] = data_watch_gyro_sum['x'].values + data_watch_accel_sum['x'].head(3440342).values\n",
    "df_watch['y'] = data_watch_gyro_sum['x'].values + data_watch_accel_sum['y'].head(3440342).values\n",
    "df_watch['z'] = data_watch_gyro_sum['x'].values + data_watch_accel_sum['z'].head(3440342).values"
   ]
  },
  {
   "cell_type": "code",
   "execution_count": 14,
   "metadata": {},
   "outputs": [
    {
     "data": {
      "text/plain": [
       "A    217194\n",
       "K    213640\n",
       "H    207882\n",
       "I    207678\n",
       "M    207215\n",
       "G    206994\n",
       "E    206992\n",
       "B    205784\n",
       "D    201973\n",
       "P    201173\n",
       "O    200160\n",
       "R    196265\n",
       "L    194054\n",
       "S    193668\n",
       "C    193031\n",
       "Q    188703\n",
       "F    183740\n",
       "J    182489\n",
       "Name: activity, dtype: int64"
      ]
     },
     "execution_count": 14,
     "metadata": {},
     "output_type": "execute_result"
    }
   ],
   "source": [
    "df_phone['activity'].value_counts()"
   ]
  },
  {
   "cell_type": "code",
   "execution_count": 15,
   "metadata": {},
   "outputs": [
    {
     "data": {
      "text/plain": [
       "E    198506\n",
       "K    197861\n",
       "D    195012\n",
       "P    194799\n",
       "Q    194782\n",
       "O    192099\n",
       "I    192041\n",
       "H    191460\n",
       "M    191170\n",
       "A    190717\n",
       "G    190713\n",
       "S    189727\n",
       "C    189302\n",
       "F    187129\n",
       "R    187126\n",
       "B    187115\n",
       "L    185677\n",
       "J    185106\n",
       "Name: activity, dtype: int64"
      ]
     },
     "execution_count": 15,
     "metadata": {},
     "output_type": "execute_result"
    }
   ],
   "source": [
    "df_watch['activity'].value_counts()"
   ]
  },
  {
   "cell_type": "markdown",
   "metadata": {},
   "source": [
    "Combining Phone and Watch Data"
   ]
  },
  {
   "cell_type": "code",
   "execution_count": 16,
   "metadata": {},
   "outputs": [],
   "source": [
    "df_phone_watch = pd.DataFrame(data=None, columns=columns)\n",
    "df_phone_watch['user']= df_phone['user'].head(3440342)\n",
    "df_phone_watch['activity']= df_phone['activity'].head(3440342)\n",
    "df_phone_watch['time']= df_phone['time'].head(3440342)\n",
    "df_phone_watch['x'] = df_watch['x'].values + df_phone['x'].head(3440342).values\n",
    "df_phone_watch['y'] = df_watch['y'].values + df_phone['y'].head(3440342).values\n",
    "df_phone_watch['z'] = df_watch['z'].values + df_phone['z'].head(3440342).values"
   ]
  },
  {
   "cell_type": "code",
   "execution_count": 17,
   "metadata": {},
   "outputs": [
    {
     "name": "stdout",
     "output_type": "stream",
     "text": [
      "<class 'pandas.core.frame.DataFrame'>\n",
      "Int64Index: 3440342 entries, 0 to 59277\n",
      "Data columns (total 6 columns):\n",
      " #   Column    Dtype  \n",
      "---  ------    -----  \n",
      " 0   user      object \n",
      " 1   activity  object \n",
      " 2   time      object \n",
      " 3   x         float64\n",
      " 4   y         float64\n",
      " 5   z         float64\n",
      "dtypes: float64(3), object(3)\n",
      "memory usage: 183.7+ MB\n"
     ]
    }
   ],
   "source": [
    "df_phone_watch.info()"
   ]
  },
  {
   "cell_type": "code",
   "execution_count": 18,
   "metadata": {},
   "outputs": [
    {
     "data": {
      "text/plain": [
       "A    208259\n",
       "K    204705\n",
       "M    198279\n",
       "E    198059\n",
       "B    196849\n",
       "G    194809\n",
       "D    193039\n",
       "C    193031\n",
       "P    192236\n",
       "O    191229\n",
       "H    190017\n",
       "I    189812\n",
       "R    187332\n",
       "L    185123\n",
       "S    184736\n",
       "F    183740\n",
       "Q    179770\n",
       "J    169317\n",
       "Name: activity, dtype: int64"
      ]
     },
     "execution_count": 18,
     "metadata": {},
     "output_type": "execute_result"
    }
   ],
   "source": [
    "df_phone_watch['activity'].value_counts()"
   ]
  },
  {
   "cell_type": "code",
   "execution_count": 19,
   "metadata": {},
   "outputs": [
    {
     "data": {
      "text/plain": [
       "A    208259\n",
       "K    204705\n",
       "M    198279\n",
       "E    198059\n",
       "B    196849\n",
       "G    194809\n",
       "D    193039\n",
       "C    193031\n",
       "P    192236\n",
       "O    191229\n",
       "H    190017\n",
       "I    189812\n",
       "R    187332\n",
       "L    185123\n",
       "S    184736\n",
       "F    183740\n",
       "Q    179770\n",
       "J    169317\n",
       "Name: activity, dtype: int64"
      ]
     },
     "execution_count": 19,
     "metadata": {},
     "output_type": "execute_result"
    }
   ],
   "source": [
    "Fs = 20\n",
    "activities = df_phone_watch['activity'].value_counts().index\n",
    "df_phone_watch = df_phone_watch.drop('time', axis=1)\n",
    "df_phone_watch['activity'].value_counts()"
   ]
  },
  {
   "cell_type": "code",
   "execution_count": 20,
   "metadata": {},
   "outputs": [],
   "source": [
    "df_a = df_phone_watch[df_phone_watch['activity']=='A'].head(174604)\n",
    "df_m = df_phone_watch[df_phone_watch['activity']=='M'].head(174604)\n",
    "df_k = df_phone_watch[df_phone_watch['activity']=='K'].head(174604)\n",
    "df_p = df_phone_watch[df_phone_watch['activity']=='P'].head(174604)\n",
    "df_e = df_phone_watch[df_phone_watch['activity']=='E'].head(174604)\n",
    "df_o = df_phone_watch[df_phone_watch['activity']=='O'].head(174604)\n",
    "df_c = df_phone_watch[df_phone_watch['activity']=='C'].head(174604)\n",
    "df_d = df_phone_watch[df_phone_watch['activity']=='D'].head(174604)\n",
    "df_l = df_phone_watch[df_phone_watch['activity']=='L'].head(174604)\n",
    "df_b = df_phone_watch[df_phone_watch['activity']=='B'].head(174604)\n",
    "df_h = df_phone_watch[df_phone_watch['activity']=='H'].head(174604)\n",
    "df_f = df_phone_watch[df_phone_watch['activity']=='F'].head(174604)\n",
    "df_g = df_phone_watch[df_phone_watch['activity']=='G'].head(174604)\n",
    "df_q = df_phone_watch[df_phone_watch['activity']=='Q'].head(174604)\n",
    "df_r = df_phone_watch[df_phone_watch['activity']=='R'].head(174604)\n",
    "df_s = df_phone_watch[df_phone_watch['activity']=='S'].head(174604)\n",
    "df_i = df_phone_watch[df_phone_watch['activity']=='I'].head(174604)\n",
    "df_j = df_phone_watch[df_phone_watch['activity']=='J']"
   ]
  },
  {
   "cell_type": "code",
   "execution_count": 21,
   "metadata": {},
   "outputs": [
    {
     "name": "stderr",
     "output_type": "stream",
     "text": [
      "C:\\Users\\Admin\\AppData\\Local\\Temp\\ipykernel_47608\\3368879018.py:2: FutureWarning: The frame.append method is deprecated and will be removed from pandas in a future version. Use pandas.concat instead.\n",
      "  balanced_data = balanced_data.append([df_a,df_m,df_k,df_p,df_e,df_o,df_c,df_d,df_l,df_b,df_h,df_f,df_g,df_q,df_r,df_s,df_i,df_j])\n"
     ]
    },
    {
     "data": {
      "text/plain": [
       "A    174604\n",
       "M    174604\n",
       "I    174604\n",
       "S    174604\n",
       "R    174604\n",
       "Q    174604\n",
       "G    174604\n",
       "F    174604\n",
       "H    174604\n",
       "B    174604\n",
       "L    174604\n",
       "D    174604\n",
       "C    174604\n",
       "O    174604\n",
       "E    174604\n",
       "P    174604\n",
       "K    174604\n",
       "J    169317\n",
       "Name: activity, dtype: int64"
      ]
     },
     "execution_count": 21,
     "metadata": {},
     "output_type": "execute_result"
    }
   ],
   "source": [
    "balanced_data = pd.DataFrame()\n",
    "balanced_data = balanced_data.append([df_a,df_m,df_k,df_p,df_e,df_o,df_c,df_d,df_l,df_b,df_h,df_f,df_g,df_q,df_r,df_s,df_i,df_j]) \n",
    "balanced_data['activity'].value_counts()"
   ]
  },
  {
   "cell_type": "code",
   "execution_count": 22,
   "metadata": {},
   "outputs": [
    {
     "data": {
      "text/html": [
       "<div>\n",
       "<style scoped>\n",
       "    .dataframe tbody tr th:only-of-type {\n",
       "        vertical-align: middle;\n",
       "    }\n",
       "\n",
       "    .dataframe tbody tr th {\n",
       "        vertical-align: top;\n",
       "    }\n",
       "\n",
       "    .dataframe thead th {\n",
       "        text-align: right;\n",
       "    }\n",
       "</style>\n",
       "<table border=\"1\" class=\"dataframe\">\n",
       "  <thead>\n",
       "    <tr style=\"text-align: right;\">\n",
       "      <th></th>\n",
       "      <th>activity</th>\n",
       "      <th>x</th>\n",
       "      <th>y</th>\n",
       "      <th>z</th>\n",
       "      <th>label</th>\n",
       "    </tr>\n",
       "  </thead>\n",
       "  <tbody>\n",
       "    <tr>\n",
       "      <th>0</th>\n",
       "      <td>0</td>\n",
       "      <td>6.188597</td>\n",
       "      <td>8.814006</td>\n",
       "      <td>10.455713</td>\n",
       "      <td>0</td>\n",
       "    </tr>\n",
       "    <tr>\n",
       "      <th>1</th>\n",
       "      <td>0</td>\n",
       "      <td>3.605272</td>\n",
       "      <td>10.013322</td>\n",
       "      <td>8.263343</td>\n",
       "      <td>0</td>\n",
       "    </tr>\n",
       "    <tr>\n",
       "      <th>2</th>\n",
       "      <td>0</td>\n",
       "      <td>4.606045</td>\n",
       "      <td>11.376722</td>\n",
       "      <td>8.513901</td>\n",
       "      <td>0</td>\n",
       "    </tr>\n",
       "    <tr>\n",
       "      <th>3</th>\n",
       "      <td>0</td>\n",
       "      <td>2.718174</td>\n",
       "      <td>13.761097</td>\n",
       "      <td>5.978487</td>\n",
       "      <td>0</td>\n",
       "    </tr>\n",
       "    <tr>\n",
       "      <th>4</th>\n",
       "      <td>0</td>\n",
       "      <td>1.299151</td>\n",
       "      <td>14.153046</td>\n",
       "      <td>3.168536</td>\n",
       "      <td>0</td>\n",
       "    </tr>\n",
       "    <tr>\n",
       "      <th>...</th>\n",
       "      <td>...</td>\n",
       "      <td>...</td>\n",
       "      <td>...</td>\n",
       "      <td>...</td>\n",
       "      <td>...</td>\n",
       "    </tr>\n",
       "    <tr>\n",
       "      <th>36003</th>\n",
       "      <td>9</td>\n",
       "      <td>-13.463638</td>\n",
       "      <td>-8.818773</td>\n",
       "      <td>-2.320777</td>\n",
       "      <td>40</td>\n",
       "    </tr>\n",
       "    <tr>\n",
       "      <th>36004</th>\n",
       "      <td>9</td>\n",
       "      <td>-13.582652</td>\n",
       "      <td>-9.013937</td>\n",
       "      <td>-2.345182</td>\n",
       "      <td>40</td>\n",
       "    </tr>\n",
       "    <tr>\n",
       "      <th>36005</th>\n",
       "      <td>9</td>\n",
       "      <td>-13.629185</td>\n",
       "      <td>-8.722762</td>\n",
       "      <td>-2.201741</td>\n",
       "      <td>40</td>\n",
       "    </tr>\n",
       "    <tr>\n",
       "      <th>36006</th>\n",
       "      <td>9</td>\n",
       "      <td>-13.675635</td>\n",
       "      <td>-9.399319</td>\n",
       "      <td>-2.620970</td>\n",
       "      <td>40</td>\n",
       "    </tr>\n",
       "    <tr>\n",
       "      <th>36007</th>\n",
       "      <td>9</td>\n",
       "      <td>-13.889722</td>\n",
       "      <td>-9.648993</td>\n",
       "      <td>-2.817738</td>\n",
       "      <td>40</td>\n",
       "    </tr>\n",
       "  </tbody>\n",
       "</table>\n",
       "<p>3137585 rows × 5 columns</p>\n",
       "</div>"
      ],
      "text/plain": [
       "       activity          x          y          z  label\n",
       "0             0   6.188597   8.814006  10.455713      0\n",
       "1             0   3.605272  10.013322   8.263343      0\n",
       "2             0   4.606045  11.376722   8.513901      0\n",
       "3             0   2.718174  13.761097   5.978487      0\n",
       "4             0   1.299151  14.153046   3.168536      0\n",
       "...         ...        ...        ...        ...    ...\n",
       "36003         9 -13.463638  -8.818773  -2.320777     40\n",
       "36004         9 -13.582652  -9.013937  -2.345182     40\n",
       "36005         9 -13.629185  -8.722762  -2.201741     40\n",
       "36006         9 -13.675635  -9.399319  -2.620970     40\n",
       "36007         9 -13.889722  -9.648993  -2.817738     40\n",
       "\n",
       "[3137585 rows x 5 columns]"
      ]
     },
     "execution_count": 22,
     "metadata": {},
     "output_type": "execute_result"
    }
   ],
   "source": [
    "from sklearn.preprocessing import LabelEncoder\n",
    "label = LabelEncoder()\n",
    "balanced_data['label'] = label.fit_transform(balanced_data['user'])\n",
    "balanced_data['activity'] = label.fit_transform(balanced_data['activity']) \n",
    "balanced_data = balanced_data.drop('user', axis=1)\n",
    "balanced_data"
   ]
  },
  {
   "cell_type": "code",
   "execution_count": 23,
   "metadata": {},
   "outputs": [
    {
     "data": {
      "text/plain": [
       "array(['A', 'B', 'C', 'D', 'E', 'F', 'G', 'H', 'I', 'J', 'K', 'L', 'M',\n",
       "       'O', 'P', 'Q', 'R', 'S'], dtype=object)"
      ]
     },
     "execution_count": 23,
     "metadata": {},
     "output_type": "execute_result"
    }
   ],
   "source": [
    "label.classes_"
   ]
  },
  {
   "cell_type": "markdown",
   "metadata": {},
   "source": [
    "**Statndardize Data**"
   ]
  },
  {
   "cell_type": "code",
   "execution_count": 24,
   "metadata": {
    "scrolled": false
   },
   "outputs": [
    {
     "data": {
      "text/html": [
       "<div>\n",
       "<style scoped>\n",
       "    .dataframe tbody tr th:only-of-type {\n",
       "        vertical-align: middle;\n",
       "    }\n",
       "\n",
       "    .dataframe tbody tr th {\n",
       "        vertical-align: top;\n",
       "    }\n",
       "\n",
       "    .dataframe thead th {\n",
       "        text-align: right;\n",
       "    }\n",
       "</style>\n",
       "<table border=\"1\" class=\"dataframe\">\n",
       "  <thead>\n",
       "    <tr style=\"text-align: right;\">\n",
       "      <th></th>\n",
       "      <th>activity</th>\n",
       "      <th>x</th>\n",
       "      <th>y</th>\n",
       "      <th>z</th>\n",
       "      <th>label</th>\n",
       "    </tr>\n",
       "  </thead>\n",
       "  <tbody>\n",
       "    <tr>\n",
       "      <th>0</th>\n",
       "      <td>0</td>\n",
       "      <td>0.644592</td>\n",
       "      <td>1.511277</td>\n",
       "      <td>1.015689</td>\n",
       "      <td>2</td>\n",
       "    </tr>\n",
       "    <tr>\n",
       "      <th>1</th>\n",
       "      <td>0</td>\n",
       "      <td>0.362824</td>\n",
       "      <td>1.640989</td>\n",
       "      <td>0.721891</td>\n",
       "      <td>2</td>\n",
       "    </tr>\n",
       "    <tr>\n",
       "      <th>2</th>\n",
       "      <td>0</td>\n",
       "      <td>0.471980</td>\n",
       "      <td>1.788448</td>\n",
       "      <td>0.755468</td>\n",
       "      <td>2</td>\n",
       "    </tr>\n",
       "    <tr>\n",
       "      <th>3</th>\n",
       "      <td>0</td>\n",
       "      <td>0.266066</td>\n",
       "      <td>2.046331</td>\n",
       "      <td>0.415699</td>\n",
       "      <td>2</td>\n",
       "    </tr>\n",
       "    <tr>\n",
       "      <th>4</th>\n",
       "      <td>0</td>\n",
       "      <td>0.111291</td>\n",
       "      <td>2.088722</td>\n",
       "      <td>0.039139</td>\n",
       "      <td>2</td>\n",
       "    </tr>\n",
       "    <tr>\n",
       "      <th>...</th>\n",
       "      <td>...</td>\n",
       "      <td>...</td>\n",
       "      <td>...</td>\n",
       "      <td>...</td>\n",
       "      <td>...</td>\n",
       "    </tr>\n",
       "    <tr>\n",
       "      <th>3137580</th>\n",
       "      <td>9</td>\n",
       "      <td>-1.498913</td>\n",
       "      <td>-0.395803</td>\n",
       "      <td>-0.696481</td>\n",
       "      <td>0</td>\n",
       "    </tr>\n",
       "    <tr>\n",
       "      <th>3137581</th>\n",
       "      <td>9</td>\n",
       "      <td>-1.511894</td>\n",
       "      <td>-0.416911</td>\n",
       "      <td>-0.699752</td>\n",
       "      <td>0</td>\n",
       "    </tr>\n",
       "    <tr>\n",
       "      <th>3137582</th>\n",
       "      <td>9</td>\n",
       "      <td>-1.516970</td>\n",
       "      <td>-0.385419</td>\n",
       "      <td>-0.680529</td>\n",
       "      <td>0</td>\n",
       "    </tr>\n",
       "    <tr>\n",
       "      <th>3137583</th>\n",
       "      <td>9</td>\n",
       "      <td>-1.522036</td>\n",
       "      <td>-0.458592</td>\n",
       "      <td>-0.736710</td>\n",
       "      <td>0</td>\n",
       "    </tr>\n",
       "    <tr>\n",
       "      <th>3137584</th>\n",
       "      <td>9</td>\n",
       "      <td>-1.545387</td>\n",
       "      <td>-0.485596</td>\n",
       "      <td>-0.763079</td>\n",
       "      <td>0</td>\n",
       "    </tr>\n",
       "  </tbody>\n",
       "</table>\n",
       "<p>2179153 rows × 5 columns</p>\n",
       "</div>"
      ],
      "text/plain": [
       "         activity         x         y         z  label\n",
       "0               0  0.644592  1.511277  1.015689      2\n",
       "1               0  0.362824  1.640989  0.721891      2\n",
       "2               0  0.471980  1.788448  0.755468      2\n",
       "3               0  0.266066  2.046331  0.415699      2\n",
       "4               0  0.111291  2.088722  0.039139      2\n",
       "...           ...       ...       ...       ...    ...\n",
       "3137580         9 -1.498913 -0.395803 -0.696481      0\n",
       "3137581         9 -1.511894 -0.416911 -0.699752      0\n",
       "3137582         9 -1.516970 -0.385419 -0.680529      0\n",
       "3137583         9 -1.522036 -0.458592 -0.736710      0\n",
       "3137584         9 -1.545387 -0.485596 -0.763079      0\n",
       "\n",
       "[2179153 rows x 5 columns]"
      ]
     },
     "execution_count": 24,
     "metadata": {},
     "output_type": "execute_result"
    }
   ],
   "source": [
    "from sklearn.preprocessing import StandardScaler\n",
    "\n",
    "x = balanced_data[['x','y','z']]\n",
    "y = balanced_data['label']\n",
    "scaler = StandardScaler()\n",
    "x = scaler.fit_transform(x)\n",
    "\n",
    "scaled_x = pd.DataFrame(data=x, columns=['x','y','z'])\n",
    "scaled_x['label'] = y.values\n",
    "scaled_x.insert(0, 'activity', balanced_data['activity'].values)\n",
    "\n",
    "# specific user training\n",
    "userID = [1,0]\n",
    "\n",
    "Dropped_for_testing = scaled_x.loc[scaled_x[\"label\"] <= 30].loc[scaled_x[\"label\"] > 20]\n",
    "Dropped_for_testing[\"label\"] = 0\n",
    "\n",
    "scaled_x = pd.concat([scaled_x.loc[scaled_x[\"label\"] <= 20],scaled_x.loc[scaled_x[\"label\"] > 30]])\n",
    "scaled_x['label']= scaled_x['label'].apply(lambda x: 1 if x == userID[0] else 0) + scaled_x['label'].apply(lambda x: 2 if x == userID[1] else 0)\n",
    "\n",
    "scaled_x"
   ]
  },
  {
   "cell_type": "markdown",
   "metadata": {},
   "source": [
    "**Frame Preparation**"
   ]
  },
  {
   "cell_type": "code",
   "execution_count": 25,
   "metadata": {},
   "outputs": [],
   "source": [
    "import scipy.stats as stats\n",
    "Fs=20\n",
    "frame_size = Fs*4 #80\n",
    "hop_size = Fs*2 #40\n",
    "N_FEATURES = 4"
   ]
  },
  {
   "cell_type": "code",
   "execution_count": 26,
   "metadata": {},
   "outputs": [
    {
     "name": "stderr",
     "output_type": "stream",
     "text": [
      "C:\\Users\\Admin\\AppData\\Local\\Temp\\ipykernel_47608\\3002904833.py:13: FutureWarning: Unlike other reduction functions (e.g. `skew`, `kurtosis`), the default behavior of `mode` typically preserves the axis it acts along. In SciPy 1.11.0, this behavior will change: the default value of `keepdims` will become False, the `axis` over which the statistic is taken will be eliminated, and the value None will no longer be accepted. Set `keepdims` to True or False to avoid this warning.\n",
      "  label = stats.mode(df['label'][i: i+frame_size])[0][0]\n"
     ]
    }
   ],
   "source": [
    "import random\n",
    "\n",
    "def get_frames(df, frame_size, hop_size):\n",
    "    \n",
    "    frames = []\n",
    "    labels = []\n",
    "    for i in range(0,len(df )- frame_size, hop_size):\n",
    "        x = df['x'].values[i: i+frame_size]\n",
    "        y = df['y'].values[i: i+frame_size]\n",
    "        z = df['z'].values[i: i+frame_size]\n",
    "        activ = df['activity'].values[i: i+frame_size]\n",
    "        \n",
    "        label = stats.mode(df['label'][i: i+frame_size])[0][0]\n",
    "        frames.append([activ,x,y,z])\n",
    "        labels.append(label)\n",
    "        \n",
    "    frames = np.asarray(frames).reshape(-1, frame_size, N_FEATURES)\n",
    "    labels = np.asarray(labels)\n",
    "    \n",
    "    return frames, labels\n",
    "\n",
    "x,y = get_frames(scaled_x, frame_size, hop_size)\n",
    "Dropped_for_testing_x, Dropped_for_testing_y  = get_frames(Dropped_for_testing, frame_size, hop_size)\n"
   ]
  },
  {
   "cell_type": "code",
   "execution_count": 27,
   "metadata": {},
   "outputs": [],
   "source": [
    "dropped_index = []\n",
    "for i in range(len(x)):\n",
    "    if y[i] == 1 or y[i] == 2 or random.random() < 0.07: #for 30-2 classes we want 6 classes to remain so we have a 25% of labels [1,2] so 6/28 = 0.214 \n",
    "        continue\n",
    "    dropped_index.append(i)\n",
    "        \n",
    "        \n",
    "        \n",
    "x = np.delete(x, dropped_index, 0)\n",
    "y = np.delete(y, dropped_index, 0)\n"
   ]
  },
  {
   "cell_type": "code",
   "execution_count": 28,
   "metadata": {},
   "outputs": [],
   "source": [
    "from sklearn.model_selection import train_test_split\n",
    "x_train, x_test, y_train, y_test = train_test_split(x,y,test_size=0.30, random_state = 0, stratify = y)\n",
    "\n",
    "x_train = x_train.reshape(x_train.shape[0], frame_size, 4, 1)\n",
    "x_test = x_test.reshape(x_test.shape[0], frame_size, 4, 1)"
   ]
  },
  {
   "cell_type": "code",
   "execution_count": 29,
   "metadata": {},
   "outputs": [],
   "source": [
    "Dropped_for_testing_x = Dropped_for_testing_x.reshape(Dropped_for_testing_x.shape[0], frame_size, 4, 1)"
   ]
  },
  {
   "cell_type": "code",
   "execution_count": 30,
   "metadata": {},
   "outputs": [
    {
     "data": {
      "text/plain": [
       "array([3547, 2036, 1607], dtype=int64)"
      ]
     },
     "execution_count": 30,
     "metadata": {},
     "output_type": "execute_result"
    }
   ],
   "source": [
    "x_train.shape\n",
    "np.bincount(y)"
   ]
  },
  {
   "cell_type": "markdown",
   "metadata": {},
   "source": [
    "**CNN_LSTM Model**"
   ]
  },
  {
   "cell_type": "code",
   "execution_count": 31,
   "metadata": {},
   "outputs": [
    {
     "name": "stdout",
     "output_type": "stream",
     "text": [
      "Model: \"sequential\"\n",
      "_________________________________________________________________\n",
      " Layer (type)                Output Shape              Param #   \n",
      "=================================================================\n",
      " time_distributed (TimeDistr  (None, 1, 79, 256)       2304      \n",
      " ibuted)                                                         \n",
      "                                                                 \n",
      " time_distributed_1 (TimeDis  (None, 1, 79, 256)       0         \n",
      " tributed)                                                       \n",
      "                                                                 \n",
      " time_distributed_2 (TimeDis  (None, 1, 78, 512)       262656    \n",
      " tributed)                                                       \n",
      "                                                                 \n",
      " time_distributed_3 (TimeDis  (None, 1, 78, 512)       0         \n",
      " tributed)                                                       \n",
      "                                                                 \n",
      " time_distributed_4 (TimeDis  (None, 1, 39, 512)       0         \n",
      " tributed)                                                       \n",
      "                                                                 \n",
      " time_distributed_5 (TimeDis  (None, 1, 19968)         0         \n",
      " tributed)                                                       \n",
      "                                                                 \n",
      " lstm (LSTM)                 (None, 256)               20710400  \n",
      "                                                                 \n",
      " dropout_2 (Dropout)         (None, 256)               0         \n",
      "                                                                 \n",
      " dense (Dense)               (None, 100)               25700     \n",
      "                                                                 \n",
      " dense_1 (Dense)             (None, 40)                4040      \n",
      "                                                                 \n",
      " dense_2 (Dense)             (None, 3)                 123       \n",
      "                                                                 \n",
      "=================================================================\n",
      "Total params: 21,005,223\n",
      "Trainable params: 21,005,223\n",
      "Non-trainable params: 0\n",
      "_________________________________________________________________\n"
     ]
    }
   ],
   "source": [
    "callbacks_list = [keras.callbacks.ModelCheckpoint(\n",
    "        filepath='best_model/best_CNN_LSTM_model_2Users.h5',\n",
    "        monitor='val_accuracy', save_best_only=True), keras.callbacks.EarlyStopping(monitor='val_loss', patience=15)\n",
    "]\n",
    "\n",
    "model = Sequential()\n",
    "\n",
    "model.add(TimeDistributed(Conv1D(filters=256, kernel_size=2, activation='relu'), \n",
    "                            input_shape=(1, x_train.shape[1], x_train.shape[2])))\n",
    "model.add(TimeDistributed(Dropout(0.1)))\n",
    "\n",
    "model.add(TimeDistributed(Conv1D(filters=512, kernel_size=2, activation='relu')))\n",
    "model.add(TimeDistributed(Dropout(0.2)))\n",
    "\n",
    "model.add(TimeDistributed(MaxPooling1D(pool_size=2)))\n",
    "model.add(TimeDistributed(Flatten()))\n",
    "\n",
    "model.add(LSTM(256))\n",
    "model.add(Dropout(0.2))\n",
    "\n",
    "model.add(Dense(100, activation='relu'))\n",
    "model.add(Dense(40, activation='relu'))\n",
    "model.add(Dense(3, activation='softmax'))\n",
    "\n",
    "model.compile(loss='categorical_crossentropy', optimizer='adam', metrics=['accuracy'])\n",
    "\n",
    "model.summary()"
   ]
  },
  {
   "cell_type": "code",
   "execution_count": 32,
   "metadata": {},
   "outputs": [],
   "source": [
    "from sklearn.preprocessing import LabelBinarizer\n",
    "label_as_binary = LabelBinarizer()\n",
    "y_train_labels = label_as_binary.fit_transform(y_train)\n",
    "x_train_1 = x_train.reshape(x_train.shape[0], 1, x_train.shape[1], x_train.shape[2])\n"
   ]
  },
  {
   "cell_type": "code",
   "execution_count": 33,
   "metadata": {
    "scrolled": false
   },
   "outputs": [
    {
     "name": "stdout",
     "output_type": "stream",
     "text": [
      "Epoch 1/35\n",
      "51/51 [==============================] - 7s 113ms/step - loss: 0.8435 - accuracy: 0.5840 - val_loss: 0.6882 - val_accuracy: 0.6584\n",
      "Epoch 2/35\n",
      "51/51 [==============================] - 5s 100ms/step - loss: 0.6631 - accuracy: 0.6910 - val_loss: 0.6409 - val_accuracy: 0.6783\n",
      "Epoch 3/35\n",
      "51/51 [==============================] - 5s 101ms/step - loss: 0.6028 - accuracy: 0.7280 - val_loss: 0.5677 - val_accuracy: 0.7438\n",
      "Epoch 4/35\n",
      "51/51 [==============================] - 5s 102ms/step - loss: 0.5808 - accuracy: 0.7332 - val_loss: 0.5251 - val_accuracy: 0.7617\n",
      "Epoch 5/35\n",
      "51/51 [==============================] - 5s 98ms/step - loss: 0.5442 - accuracy: 0.7526 - val_loss: 0.5169 - val_accuracy: 0.7517\n",
      "Epoch 6/35\n",
      "51/51 [==============================] - 5s 102ms/step - loss: 0.5193 - accuracy: 0.7680 - val_loss: 0.5244 - val_accuracy: 0.7736\n",
      "Epoch 7/35\n",
      "51/51 [==============================] - 5s 102ms/step - loss: 0.4967 - accuracy: 0.7804 - val_loss: 0.4757 - val_accuracy: 0.7905\n",
      "Epoch 8/35\n",
      "51/51 [==============================] - 5s 98ms/step - loss: 0.5058 - accuracy: 0.7692 - val_loss: 0.5047 - val_accuracy: 0.7537\n",
      "Epoch 9/35\n",
      "51/51 [==============================] - 5s 98ms/step - loss: 0.4883 - accuracy: 0.7869 - val_loss: 0.4844 - val_accuracy: 0.7786\n",
      "Epoch 10/35\n",
      "51/51 [==============================] - 5s 103ms/step - loss: 0.4549 - accuracy: 0.8023 - val_loss: 0.4128 - val_accuracy: 0.8242\n",
      "Epoch 11/35\n",
      "51/51 [==============================] - 5s 98ms/step - loss: 0.4444 - accuracy: 0.8092 - val_loss: 0.4296 - val_accuracy: 0.8163\n",
      "Epoch 12/35\n",
      "51/51 [==============================] - 5s 98ms/step - loss: 0.4397 - accuracy: 0.8050 - val_loss: 0.4535 - val_accuracy: 0.7915\n",
      "Epoch 13/35\n",
      "51/51 [==============================] - 5s 99ms/step - loss: 0.4235 - accuracy: 0.8212 - val_loss: 0.4184 - val_accuracy: 0.8083\n",
      "Epoch 14/35\n",
      "51/51 [==============================] - 5s 98ms/step - loss: 0.4087 - accuracy: 0.8353 - val_loss: 0.5037 - val_accuracy: 0.7706\n",
      "Epoch 15/35\n",
      "51/51 [==============================] - 5s 102ms/step - loss: 0.3997 - accuracy: 0.8331 - val_loss: 0.3951 - val_accuracy: 0.8322\n",
      "Epoch 16/35\n",
      "51/51 [==============================] - 5s 98ms/step - loss: 0.3424 - accuracy: 0.8621 - val_loss: 0.3920 - val_accuracy: 0.8213\n",
      "Epoch 17/35\n",
      "51/51 [==============================] - 5s 104ms/step - loss: 0.3361 - accuracy: 0.8666 - val_loss: 0.3678 - val_accuracy: 0.8352\n",
      "Epoch 18/35\n",
      "51/51 [==============================] - 5s 104ms/step - loss: 0.3179 - accuracy: 0.8686 - val_loss: 0.3795 - val_accuracy: 0.8431\n",
      "Epoch 19/35\n",
      "51/51 [==============================] - 5s 104ms/step - loss: 0.3108 - accuracy: 0.8731 - val_loss: 0.3720 - val_accuracy: 0.8540\n",
      "Epoch 20/35\n",
      "51/51 [==============================] - 5s 105ms/step - loss: 0.2976 - accuracy: 0.8770 - val_loss: 0.3990 - val_accuracy: 0.8361\n",
      "Epoch 21/35\n",
      "51/51 [==============================] - 6s 110ms/step - loss: 0.2763 - accuracy: 0.8907 - val_loss: 0.3185 - val_accuracy: 0.8699\n",
      "Epoch 22/35\n",
      "51/51 [==============================] - 5s 104ms/step - loss: 0.2952 - accuracy: 0.8778 - val_loss: 0.3806 - val_accuracy: 0.8381\n",
      "Epoch 23/35\n",
      "51/51 [==============================] - 5s 103ms/step - loss: 0.2503 - accuracy: 0.8989 - val_loss: 0.3690 - val_accuracy: 0.8451\n",
      "Epoch 24/35\n",
      "51/51 [==============================] - 5s 103ms/step - loss: 0.2632 - accuracy: 0.8917 - val_loss: 0.4817 - val_accuracy: 0.8193\n",
      "Epoch 25/35\n",
      "51/51 [==============================] - 5s 105ms/step - loss: 0.2495 - accuracy: 0.9034 - val_loss: 0.3186 - val_accuracy: 0.8828\n",
      "Epoch 26/35\n",
      "51/51 [==============================] - 5s 98ms/step - loss: 0.2266 - accuracy: 0.9126 - val_loss: 0.4045 - val_accuracy: 0.8570\n",
      "Epoch 27/35\n",
      "51/51 [==============================] - 5s 106ms/step - loss: 0.2036 - accuracy: 0.9277 - val_loss: 0.2920 - val_accuracy: 0.9007\n",
      "Epoch 28/35\n",
      "51/51 [==============================] - 5s 99ms/step - loss: 0.2008 - accuracy: 0.9262 - val_loss: 0.2979 - val_accuracy: 0.8908\n",
      "Epoch 29/35\n",
      "51/51 [==============================] - 5s 105ms/step - loss: 0.1882 - accuracy: 0.9272 - val_loss: 0.2951 - val_accuracy: 0.9037\n",
      "Epoch 30/35\n",
      "51/51 [==============================] - 5s 103ms/step - loss: 0.1781 - accuracy: 0.9332 - val_loss: 0.3941 - val_accuracy: 0.8679\n",
      "Epoch 31/35\n",
      "51/51 [==============================] - 5s 102ms/step - loss: 0.2084 - accuracy: 0.9210 - val_loss: 0.2985 - val_accuracy: 0.8937\n",
      "Epoch 32/35\n",
      "51/51 [==============================] - 5s 99ms/step - loss: 0.1681 - accuracy: 0.9382 - val_loss: 0.3480 - val_accuracy: 0.8878\n",
      "Epoch 33/35\n",
      "51/51 [==============================] - 5s 105ms/step - loss: 0.1652 - accuracy: 0.9409 - val_loss: 0.2909 - val_accuracy: 0.9116\n",
      "Epoch 34/35\n",
      "51/51 [==============================] - 5s 100ms/step - loss: 0.1478 - accuracy: 0.9496 - val_loss: 0.2933 - val_accuracy: 0.9017\n",
      "Epoch 35/35\n",
      "51/51 [==============================] - 5s 99ms/step - loss: 0.1438 - accuracy: 0.9486 - val_loss: 0.4531 - val_accuracy: 0.8510\n"
     ]
    }
   ],
   "source": [
    "history = model.fit(x_train_1, y_train_labels, validation_split=0.2, batch_size=80, epochs=35, callbacks=callbacks_list)"
   ]
  },
  {
   "cell_type": "code",
   "execution_count": 34,
   "metadata": {},
   "outputs": [],
   "source": [
    "import tikzplotlib\n",
    "\n",
    "def plot_accuracy(model):\n",
    "    plt.figure(figsize=(10, 5))\n",
    "    plt.plot(model.history['accuracy'], 'g--', label='Accuracy of training data') \n",
    "    plt.plot(model.history['val_accuracy'], 'g', label='Accuracy of validation data')\n",
    "    #plt.title('Model Accuracy and Loss', fontsize=17)\n",
    "    plt.legend(loc='center left', shadow=True, fontsize=17)\n",
    "    plt.ylabel('Training Progress', fontsize=17)\n",
    "    plt.xlabel('Training Epoch', fontsize=17)\n",
    "    plt.ylim(0)\n",
    "    plt.legend()\n",
    "    #tikzplotlib.save('smartFall_accuracy.tex')\n",
    "    plt.show()"
   ]
  },
  {
   "cell_type": "code",
   "execution_count": 35,
   "metadata": {},
   "outputs": [
    {
     "data": {
      "image/png": "[encoded data removed]",
      "text/plain": [
       "<Figure size 1000x500 with 1 Axes>"
      ]
     },
     "metadata": {},
     "output_type": "display_data"
    }
   ],
   "source": [
    "plot_accuracy(history)"
   ]
  },
  {
   "cell_type": "code",
   "execution_count": 36,
   "metadata": {},
   "outputs": [],
   "source": [
    "def plot_loss(model):\n",
    "    plt.figure(figsize=(10, 5))\n",
    "    plt.plot(model.history['loss'], 'r--', label='Loss of training data')\n",
    "    plt.plot(model.history['val_loss'], 'r', label='Loss of validation data')\n",
    "    plt.legend(loc='center left', shadow=True, fontsize=17)\n",
    "    plt.ylabel('Training Progress', fontsize=17)\n",
    "    plt.xlabel('Training Epoch', fontsize=17)\n",
    "    plt.ylim(0)\n",
    "    plt.legend()"
   ]
  },
  {
   "cell_type": "code",
   "execution_count": 37,
   "metadata": {},
   "outputs": [
    {
     "data": {
      "image/png": "[encoded data removed]",
      "text/plain": [
       "<Figure size 1000x500 with 1 Axes>"
      ]
     },
     "metadata": {},
     "output_type": "display_data"
    }
   ],
   "source": [
    "plot_loss(history)"
   ]
  },
  {
   "cell_type": "code",
   "execution_count": 38,
   "metadata": {},
   "outputs": [],
   "source": [
    "def plot(model):\n",
    "    plt.figure(figsize=(10, 7))\n",
    "    plt.plot(model.history['accuracy'], 'g--', label='Accuracy of training data')\n",
    "    plt.plot(model.history['val_accuracy'], 'g', label='Accuracy of validation data')\n",
    "    plt.plot(model.history['loss'], 'r--', label='Loss of training data')\n",
    "    plt.plot(model.history['val_loss'], 'r', label='Loss of validation data')\n",
    "    plt.legend(loc='upper right', shadow=True, fontsize=17)\n",
    "    plt.ylabel('Training Progress', fontsize=17)\n",
    "    plt.xlabel('Training Epoch', fontsize=17)\n",
    "    plt.ylim(0)\n",
    "    plt.legend()"
   ]
  },
  {
   "cell_type": "code",
   "execution_count": 39,
   "metadata": {},
   "outputs": [
    {
     "data": {
      "image/png": "[encoded data removed]",
      "text/plain": [
       "<Figure size 1000x700 with 1 Axes>"
      ]
     },
     "metadata": {},
     "output_type": "display_data"
    }
   ],
   "source": [
    "plot(history)"
   ]
  },
  {
   "cell_type": "code",
   "execution_count": 40,
   "metadata": {},
   "outputs": [],
   "source": [
    "from keras.models import load_model\n",
    "best_model = load_model('best_model/best_CNN_LSTM_model_2Users.h5')"
   ]
  },
  {
   "cell_type": "code",
   "execution_count": 41,
   "metadata": {
    "scrolled": true
   },
   "outputs": [
    {
     "name": "stdout",
     "output_type": "stream",
     "text": [
      "436/436 [==============================] - 5s 12ms/step - loss: 0.2296 - accuracy: 0.9173\n",
      "\n",
      "Accuracy on test data: 0.92\n",
      "\n",
      "Loss on test data: 0.23\n"
     ]
    }
   ],
   "source": [
    "# reshape data into time steps of sub-sequences\n",
    "\n",
    "y_test_Combined = np.concatenate((y_test, Dropped_for_testing_y), axis=0)\n",
    "x_test_Combined = np.concatenate((x_test, Dropped_for_testing_x), axis=0)\n",
    "\n",
    "\n",
    "y_test_labels = label_as_binary.fit_transform(y_test_Combined)\n",
    "x_test_1 = x_test_Combined.reshape(x_test_Combined.shape[0], 1, x_test_Combined.shape[1], x_test_Combined.shape[2])\n",
    "\n",
    "score = best_model.evaluate(x_test_1, y_test_labels, verbose=1, batch_size=60)\n",
    "\n",
    "print('\\nAccuracy on test data: %0.2f' % score[1])\n",
    "print('\\nLoss on test data: %0.2f' % score[0])"
   ]
  },
  {
   "cell_type": "code",
   "execution_count": 42,
   "metadata": {},
   "outputs": [
    {
     "name": "stdout",
     "output_type": "stream",
     "text": [
      "436/436 [==============================] - 5s 12ms/step\n"
     ]
    },
    {
     "data": {
      "text/plain": [
       "<AxesSubplot:title={'center':'Confusion Matrix (Normalized)'}, xlabel='Predicted Classes', ylabel='Actual Classes'>"
      ]
     },
     "execution_count": 42,
     "metadata": {},
     "output_type": "execute_result"
    },
    {
     "data": {
      "image/png": "[encoded data removed]",
      "text/plain": [
       "<Figure size 640x480 with 2 Axes>"
      ]
     },
     "metadata": {},
     "output_type": "display_data"
    }
   ],
   "source": [
    "# Take the class with the highest probability from the test predictions\n",
    "y_pred_test = best_model.predict(x_test_1, batch_size=60)\n",
    "max_y_pred_test = np.argmax(y_pred_test, axis = 1)\n",
    "max_y_test = np.argmax(y_test_labels, axis = 1)\n",
    "#Confusion Matrix\n",
    "from pycm import *\n",
    "cm = ConfusionMatrix(actual_vector= max_y_test, predict_vector= max_y_pred_test)\n",
    "cm.plot(cmap=plt.cm.Blues,normalized=True,number_label=True,plot_lib=\"seaborn\")"
   ]
  },
  {
   "cell_type": "code",
   "execution_count": 43,
   "metadata": {},
   "outputs": [
    {
     "name": "stdout",
     "output_type": "stream",
     "text": [
      "436/436 [==============================] - 5s 12ms/step\n",
      "              precision    recall  f1-score   support\n",
      "\n",
      "           0       1.00      0.92      0.96     25023\n",
      "           1       0.27      0.93      0.42       611\n",
      "           2       0.44      0.87      0.59       482\n",
      "\n",
      "    accuracy                           0.92     26116\n",
      "   macro avg       0.57      0.91      0.65     26116\n",
      "weighted avg       0.97      0.92      0.94     26116\n",
      "\n"
     ]
    }
   ],
   "source": [
    "# Take the class with the highest probability from the test predictions\n",
    "y_pred_test = best_model.predict(x_test_1, batch_size=60)\n",
    "max_y_pred_test = np.argmax(y_pred_test, axis = 1)\n",
    "max_y_test = np.argmax(y_test_labels, axis = 1)\n",
    "print(metrics.classification_report(max_y_test, max_y_pred_test))"
   ]
  },
  {
   "cell_type": "code",
   "execution_count": null,
   "metadata": {},
   "outputs": [],
   "source": []
  }
 ],
 "metadata": {
  "kernelspec": {
   "display_name": "Python 3 (ipykernel)",
   "language": "python",
   "name": "python3"
  },
  "language_info": {
   "codemirror_mode": {
    "name": "ipython",
    "version": 3
   },
   "file_extension": ".py",
   "mimetype": "text/x-python",
   "name": "python",
   "nbconvert_exporter": "python",
   "pygments_lexer": "ipython3",
   "version": "3.9.13"
  }
 },
 "nbformat": 4,
 "nbformat_minor": 4
}
